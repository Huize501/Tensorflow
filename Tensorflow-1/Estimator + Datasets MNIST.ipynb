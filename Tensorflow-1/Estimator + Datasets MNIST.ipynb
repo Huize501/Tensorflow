{
 "cells": [
  {
   "cell_type": "markdown",
   "metadata": {},
   "source": [
    "# Introduction in to Datasets API and Estimator API"
   ]
  },
  {
   "cell_type": "markdown",
   "metadata": {},
   "source": [
    "Datasets and Estimators are two key TensorFlow features:\n",
    "\n",
    "- Datasets: Best practice way of creating input pipelines. Reading data in to your graph. \n",
    "- Estimators: A high-level API to create TensorFlow models. Estimators include canned models (out of the box) and custom estimators.\n",
    "\n",
    "Below you the TensorFlow architecture including the dataset API an Estimators. Combined, they offer an easy way to create TensorFlow models:\n",
    "\n",
    "![title](https://3.bp.blogspot.com/-l2UT45WGdyw/Wbe7au1nfwI/AAAAAAAAD1I/GeQcQUUWezIiaFFRCiMILlX2EYdG49C0wCLcBGAs/s1600/image6.png)\n"
   ]
  },
  {
   "cell_type": "markdown",
   "metadata": {},
   "source": [
    "# Import Libraries"
   ]
  },
  {
   "cell_type": "code",
   "execution_count": 133,
   "metadata": {
    "collapsed": true
   },
   "outputs": [],
   "source": [
    "%matplotlib inline\n",
    "import matplotlib.pyplot as plt\n",
    "import tensorflow as tf\n",
    "import numpy as np\n"
   ]
  },
  {
   "cell_type": "code",
   "execution_count": 134,
   "metadata": {},
   "outputs": [
    {
     "data": {
      "text/plain": [
       "'1.5.0'"
      ]
     },
     "execution_count": 134,
     "metadata": {},
     "output_type": "execute_result"
    }
   ],
   "source": [
    "# Check that we have correct TensorFlow version installed\n",
    "tf.__version__"
   ]
  },
  {
   "cell_type": "markdown",
   "metadata": {},
   "source": [
    "# Load Data "
   ]
  },
  {
   "cell_type": "markdown",
   "metadata": {},
   "source": [
    "We are going to use the MINST Data set that is around 12MB."
   ]
  },
  {
   "cell_type": "code",
   "execution_count": 135,
   "metadata": {
    "scrolled": false
   },
   "outputs": [
    {
     "name": "stdout",
     "output_type": "stream",
     "text": [
      "Extracting data/MNIST/train-images-idx3-ubyte.gz\n",
      "Extracting data/MNIST/train-labels-idx1-ubyte.gz\n",
      "Extracting data/MNIST/t10k-images-idx3-ubyte.gz\n",
      "Extracting data/MNIST/t10k-labels-idx1-ubyte.gz\n"
     ]
    }
   ],
   "source": [
    "# Lets load in the data from the tutorials\n",
    "from tensorflow.examples.tutorials.mnist import input_data\n",
    "data = input_data.read_data_sets('data/MNIST/', one_hot=True)"
   ]
  },
  {
   "cell_type": "code",
   "execution_count": 136,
   "metadata": {},
   "outputs": [
    {
     "name": "stdout",
     "output_type": "stream",
     "text": [
      "Size of:\n",
      "- Training-set:\t\t55000\n",
      "- Test-set:\t\t10000\n",
      "- Validation-set:\t5000\n"
     ]
    }
   ],
   "source": [
    "# Check the dataset size\n",
    "print(\"Size of:\")\n",
    "print(\"- Training-set:\\t\\t{}\".format(len(data.train.labels)))\n",
    "print(\"- Test-set:\\t\\t{}\".format(len(data.test.labels)))\n",
    "print(\"- Validation-set:\\t{}\".format(len(data.validation.labels)))"
   ]
  },
  {
   "cell_type": "markdown",
   "metadata": {},
   "source": [
    "The classes are one-hot encoded. So for each label we have a vector where all are zero but one. The index of the element is a class number. We need these class numbers as integers."
   ]
  },
  {
   "cell_type": "code",
   "execution_count": 137,
   "metadata": {
    "collapsed": true
   },
   "outputs": [],
   "source": [
    "#np.argmax returns array of indeces\n",
    "data.train.cls = np.argmax(data.train.labels, axis=1)"
   ]
  },
  {
   "cell_type": "code",
   "execution_count": 138,
   "metadata": {
    "collapsed": true
   },
   "outputs": [],
   "source": [
    "#np.argmax returns array of indeces\n",
    "data.test.cls = np.argmax(data.test.labels, axis=1)"
   ]
  },
  {
   "cell_type": "code",
   "execution_count": 139,
   "metadata": {},
   "outputs": [
    {
     "data": {
      "text/plain": [
       "array([[0., 0., 0., 0., 0., 0., 0., 1., 0., 0.],\n",
       "       [0., 0., 0., 1., 0., 0., 0., 0., 0., 0.],\n",
       "       [0., 0., 0., 0., 1., 0., 0., 0., 0., 0.],\n",
       "       [0., 0., 0., 0., 0., 0., 1., 0., 0., 0.],\n",
       "       [0., 1., 0., 0., 0., 0., 0., 0., 0., 0.],\n",
       "       [0., 0., 0., 0., 0., 0., 0., 0., 1., 0.],\n",
       "       [0., 1., 0., 0., 0., 0., 0., 0., 0., 0.],\n",
       "       [1., 0., 0., 0., 0., 0., 0., 0., 0., 0.],\n",
       "       [0., 0., 0., 0., 0., 0., 0., 0., 0., 1.],\n",
       "       [0., 0., 0., 0., 0., 0., 0., 0., 1., 0.]])"
      ]
     },
     "execution_count": 139,
     "metadata": {},
     "output_type": "execute_result"
    }
   ],
   "source": [
    "#show traning labels for first ten. \n",
    "data.train.labels[0:10]"
   ]
  },
  {
   "cell_type": "code",
   "execution_count": 140,
   "metadata": {},
   "outputs": [
    {
     "data": {
      "text/plain": [
       "array([7, 3, 4, 6, 1, 8, 1, 0, 9, 8])"
      ]
     },
     "execution_count": 140,
     "metadata": {},
     "output_type": "execute_result"
    }
   ],
   "source": [
    "# The class numbers that go with it. \n",
    "data.train.cls[0:10]"
   ]
  },
  {
   "cell_type": "markdown",
   "metadata": {},
   "source": [
    "# Data Dimension"
   ]
  },
  {
   "cell_type": "markdown",
   "metadata": {},
   "source": [
    "We need to specifiy the data dimensions"
   ]
  },
  {
   "cell_type": "code",
   "execution_count": 141,
   "metadata": {
    "collapsed": true
   },
   "outputs": [],
   "source": [
    "# MNIST images are 28 pixels by 28 pixels.\n",
    "img_size = 28\n",
    "\n",
    "# Image is a one-dimensional array of this size.\n",
    "img_size_flat = img_size * img_size\n",
    "\n",
    "# Tuple with height and width of images used to reshape arrays.\n",
    "img_shape = (img_size, img_size)\n",
    "\n",
    "# Number of colour channels for the images: 1 channel for gray-scale.\n",
    "num_channels = 1\n",
    "\n",
    "# Number of classes.\n",
    "num_classes = 10"
   ]
  },
  {
   "cell_type": "markdown",
   "metadata": {},
   "source": [
    "# Helper-function for plotting images"
   ]
  },
  {
   "cell_type": "code",
   "execution_count": 142,
   "metadata": {
    "collapsed": true
   },
   "outputs": [],
   "source": [
    "def plot_images(images, cls_true, cls_pred=None):\n",
    "    assert len(images) == len(cls_true) == 9\n",
    "    \n",
    "    # Create figure with 3x3 sub-plots.\n",
    "    fig, axes = plt.subplots(3, 3)\n",
    "    fig.subplots_adjust(hspace=0.3, wspace=0.3)\n",
    "\n",
    "    for i, ax in enumerate(axes.flat):\n",
    "        # Plot image.\n",
    "        ax.imshow(images[i].reshape(img_shape), cmap='binary')\n",
    "\n",
    "        # Show true and predicted classes.\n",
    "        if cls_pred is None:\n",
    "            xlabel = \"True: {0}\".format(cls_true[i])\n",
    "        else:\n",
    "            xlabel = \"True: {0}, Pred: {1}\".format(cls_true[i], cls_pred[i])\n",
    "\n",
    "        # Show the classes as the label on the x-axis.\n",
    "        ax.set_xlabel(xlabel)\n",
    "        \n",
    "        # Remove ticks from the plot.\n",
    "        ax.set_xticks([])\n",
    "        ax.set_yticks([])\n",
    "    \n",
    "    # Ensure the plot is shown correctly with multiple plots\n",
    "    # in a single Notebook cell.\n",
    "    plt.show()"
   ]
  },
  {
   "cell_type": "markdown",
   "metadata": {},
   "source": [
    "# Plot a few images to see if data is correct"
   ]
  },
  {
   "cell_type": "code",
   "execution_count": 143,
   "metadata": {},
   "outputs": [
    {
     "data": {
      "image/png": "[encoded data removed]",
      "text/plain": [
       "<matplotlib.figure.Figure at 0x125b27150>"
      ]
     },
     "metadata": {},
     "output_type": "display_data"
    }
   ],
   "source": [
    "# Get the first images from the test-set.\n",
    "images = data.test.images[0:9]\n",
    "\n",
    "# Get the true classes for those images.\n",
    "cls_true = data.test.cls[0:9]\n",
    "\n",
    "# Plot the images and labels using our helper-function above.\n",
    "plot_images(images=images, cls_true=cls_true)"
   ]
  },
  {
   "cell_type": "markdown",
   "metadata": {},
   "source": [
    "# Input Functions for the Estimator"
   ]
  },
  {
   "cell_type": "markdown",
   "metadata": {},
   "source": [
    "We need to create a function that will return the data. This is to add flexibility and re-usability. We will be using the DNNClassifier so the data should be in intiger format. If we want we can also set paramaters here but in this case we will be loading data directly in to memory. "
   ]
  },
  {
   "cell_type": "code",
   "execution_count": 144,
   "metadata": {
    "collapsed": true
   },
   "outputs": [],
   "source": [
    "# Here we create are input function that takes in a numpay array. We can also specify the number of epochs and shuffle. \n",
    "# Here set input (x) and target (y)\n",
    "train_input_fn = tf.estimator.inputs.numpy_input_fn(x={\"x\": np.array(data.train.images)},\n",
    "    y=np.array(data.train.cls),\n",
    "    num_epochs=None,\n",
    "    shuffle=True)"
   ]
  },
  {
   "cell_type": "code",
   "execution_count": 145,
   "metadata": {},
   "outputs": [
    {
     "data": {
      "text/plain": [
       "<function tensorflow.python.estimator.inputs.numpy_io.input_fn>"
      ]
     },
     "execution_count": 145,
     "metadata": {},
     "output_type": "execute_result"
    }
   ],
   "source": [
    "#This returns a function\n",
    "train_input_fn"
   ]
  },
  {
   "cell_type": "code",
   "execution_count": 146,
   "metadata": {},
   "outputs": [
    {
     "data": {
      "text/plain": [
       "({'x': <tf.Tensor 'random_shuffle_queue_DequeueMany_1:1' shape=(128, 784) dtype=float32>},\n",
       " <tf.Tensor 'random_shuffle_queue_DequeueMany_1:2' shape=(128,) dtype=int64>)"
      ]
     },
     "execution_count": 146,
     "metadata": {},
     "output_type": "execute_result"
    }
   ],
   "source": [
    "#Calling the function will return the tuple with TF ops.\n",
    "train_input_fn()"
   ]
  },
  {
   "cell_type": "code",
   "execution_count": 147,
   "metadata": {
    "collapsed": true
   },
   "outputs": [],
   "source": [
    "# We also need to create a function for the test set. \n",
    "test_input_fn= tf.estimator.inputs.numpy_input_fn(x={\"x\": np.array(data.test.images)},\n",
    "                                                 y=np.array(data.test.cls),\n",
    "                                                 num_epochs=1,\n",
    "                                                 shuffle=False)"
   ]
  },
  {
   "cell_type": "code",
   "execution_count": 148,
   "metadata": {},
   "outputs": [
    {
     "data": {
      "text/plain": [
       "({'x': <tf.Tensor 'fifo_queue_DequeueUpTo_1:1' shape=(?, 784) dtype=float32>},\n",
       " <tf.Tensor 'fifo_queue_DequeueUpTo_1:2' shape=(?,) dtype=int64>)"
      ]
     },
     "execution_count": 148,
     "metadata": {},
     "output_type": "execute_result"
    }
   ],
   "source": [
    "test_input_fn()"
   ]
  },
  {
   "cell_type": "code",
   "execution_count": 149,
   "metadata": {
    "collapsed": true
   },
   "outputs": [],
   "source": [
    "# And lets take some images for doing the predictions. \n",
    "some_images = data.test.images[0:9]"
   ]
  },
  {
   "cell_type": "code",
   "execution_count": 150,
   "metadata": {
    "collapsed": true
   },
   "outputs": [],
   "source": [
    "#Input function for predictions\n",
    "predict_input_fn = tf.estimator.inputs.numpy_input_fn(\n",
    "    x={'x': some_images},\n",
    "    num_epochs=1,\n",
    "    shuffle=False)"
   ]
  },
  {
   "cell_type": "code",
   "execution_count": 151,
   "metadata": {
    "collapsed": true
   },
   "outputs": [],
   "source": [
    "some_images_cls = data.test.cls[0:9]"
   ]
  },
  {
   "cell_type": "markdown",
   "metadata": {},
   "source": [
    "# Specify the Canned Estimator"
   ]
  },
  {
   "cell_type": "markdown",
   "metadata": {},
   "source": [
    "The things we have done:\n",
    "- Load data. \n",
    "- Explore some of the data. \n",
    "- Create input function. \n",
    "\n",
    "Now it's time to setup an estimator. In this case we are going to use a pre-canned estimator: DNNClassifier. First we will setup the metadata information for the columns.  "
   ]
  },
  {
   "cell_type": "code",
   "execution_count": 156,
   "metadata": {
    "collapsed": true
   },
   "outputs": [],
   "source": [
    "# Here we are specifying the type and column shape\n",
    "#feature_x = tf.feature_column.numeric_column('x', shape=img_shape) # x is the name"
   ]
  },
  {
   "cell_type": "code",
   "execution_count": 157,
   "metadata": {
    "collapsed": true
   },
   "outputs": [],
   "source": [
    "# if we would have more features we have to put them together in a list. \n",
    "feature_columns = [tf.feature_column.numeric_column('x', shape=img_shape)] "
   ]
  },
  {
   "cell_type": "code",
   "execution_count": 158,
   "metadata": {
    "collapsed": true
   },
   "outputs": [],
   "source": [
    "# In this case we are building a three layer network. Here we specify the amount of hidden units\n",
    "num_hidden_units =[512, 256, 128] "
   ]
  },
  {
   "cell_type": "code",
   "execution_count": 163,
   "metadata": {
    "scrolled": true
   },
   "outputs": [
    {
     "name": "stdout",
     "output_type": "stream",
     "text": [
      "INFO:tensorflow:Using default config.\n",
      "INFO:tensorflow:Using config: {'_save_checkpoints_secs': 600, '_session_config': None, '_keep_checkpoint_max': 5, '_task_type': 'worker', '_is_chief': True, '_cluster_spec': <tensorflow.python.training.server_lib.ClusterSpec object at 0x126512d50>, '_save_checkpoints_steps': None, '_keep_checkpoint_every_n_hours': 10000, '_service': None, '_num_ps_replicas': 0, '_tf_random_seed': None, '_master': '', '_num_worker_replicas': 1, '_task_id': 0, '_log_step_count_steps': 100, '_model_dir': './Checkpoints/checkpoints_tutorial17-1/', '_save_summary_steps': 100}\n"
     ]
    }
   ],
   "source": [
    "#Now it's time to initiate our classifier. Here we also specify the feature columns, hidden units and activation function. \n",
    "# We are also going to save our checkpoints in a directory. \n",
    "model = tf.estimator.DNNClassifier(feature_columns=feature_columns,\n",
    "                                  hidden_units=num_hidden_units,\n",
    "                                  activation_fn=tf.nn.relu,\n",
    "                                  n_classes=num_classes,\n",
    "                                  model_dir=\"./Checkpoints/checkpoints_tutorial17-1/\")\n",
    "                                   #model_dir=\"./checkpoints_tutorial17-1/\")\n",
    "                                   "
   ]
  },
  {
   "cell_type": "markdown",
   "metadata": {},
   "source": [
    "# Now it's time to train the model!"
   ]
  },
  {
   "cell_type": "code",
   "execution_count": 164,
   "metadata": {},
   "outputs": [
    {
     "name": "stdout",
     "output_type": "stream",
     "text": [
      "INFO:tensorflow:Create CheckpointSaverHook.\n",
      "INFO:tensorflow:Saving checkpoints for 1 into ./Checkpoints/checkpoints_tutorial17-1/model.ckpt.\n",
      "INFO:tensorflow:loss = 298.03534, step = 1\n",
      "INFO:tensorflow:global_step/sec: 110.976\n",
      "INFO:tensorflow:loss = 24.321064, step = 101 (0.903 sec)\n",
      "INFO:tensorflow:global_step/sec: 108.484\n",
      "INFO:tensorflow:loss = 24.434456, step = 201 (0.920 sec)\n",
      "INFO:tensorflow:global_step/sec: 111.714\n",
      "INFO:tensorflow:loss = 28.53651, step = 301 (0.897 sec)\n",
      "INFO:tensorflow:global_step/sec: 112.35\n",
      "INFO:tensorflow:loss = 10.151123, step = 401 (0.890 sec)\n",
      "INFO:tensorflow:global_step/sec: 103.114\n",
      "INFO:tensorflow:loss = 11.103088, step = 501 (0.968 sec)\n",
      "INFO:tensorflow:global_step/sec: 106.087\n",
      "INFO:tensorflow:loss = 10.291996, step = 601 (0.943 sec)\n",
      "INFO:tensorflow:global_step/sec: 109.783\n",
      "INFO:tensorflow:loss = 9.709423, step = 701 (0.911 sec)\n",
      "INFO:tensorflow:global_step/sec: 109.685\n",
      "INFO:tensorflow:loss = 6.4357643, step = 801 (0.912 sec)\n",
      "INFO:tensorflow:global_step/sec: 92.835\n",
      "INFO:tensorflow:loss = 20.01784, step = 901 (1.077 sec)\n",
      "INFO:tensorflow:global_step/sec: 90.2457\n",
      "INFO:tensorflow:loss = 6.646566, step = 1001 (1.108 sec)\n",
      "INFO:tensorflow:global_step/sec: 103.544\n",
      "INFO:tensorflow:loss = 2.5655975, step = 1101 (0.966 sec)\n",
      "INFO:tensorflow:global_step/sec: 95.6718\n",
      "INFO:tensorflow:loss = 3.2528563, step = 1201 (1.046 sec)\n",
      "INFO:tensorflow:global_step/sec: 92.3302\n",
      "INFO:tensorflow:loss = 8.362395, step = 1301 (1.081 sec)\n",
      "INFO:tensorflow:global_step/sec: 86.5831\n",
      "INFO:tensorflow:loss = 5.6131263, step = 1401 (1.156 sec)\n",
      "INFO:tensorflow:global_step/sec: 91.9228\n",
      "INFO:tensorflow:loss = 5.641927, step = 1501 (1.087 sec)\n",
      "INFO:tensorflow:global_step/sec: 109.624\n",
      "INFO:tensorflow:loss = 11.723446, step = 1601 (0.914 sec)\n",
      "INFO:tensorflow:global_step/sec: 96.403\n",
      "INFO:tensorflow:loss = 13.276176, step = 1701 (1.036 sec)\n",
      "INFO:tensorflow:global_step/sec: 99.3325\n",
      "INFO:tensorflow:loss = 3.3140042, step = 1801 (1.006 sec)\n",
      "INFO:tensorflow:global_step/sec: 106.117\n",
      "INFO:tensorflow:loss = 3.7367804, step = 1901 (0.943 sec)\n",
      "INFO:tensorflow:Saving checkpoints for 2000 into ./Checkpoints/checkpoints_tutorial17-1/model.ckpt.\n",
      "INFO:tensorflow:Loss for final step: 8.220387.\n"
     ]
    },
    {
     "data": {
      "text/plain": [
       "<tensorflow.python.estimator.canned.dnn.DNNClassifier at 0x10f620750>"
      ]
     },
     "execution_count": 164,
     "metadata": {},
     "output_type": "execute_result"
    }
   ],
   "source": [
    "# We use the model.train function the train the model. \n",
    "# Here we also set the input function\n",
    "model.train(input_fn=train_input_fn, steps=2000)"
   ]
  },
  {
   "cell_type": "markdown",
   "metadata": {},
   "source": [
    "With this standardized code it is really easy to create a new model with different settings and test how good it performs. "
   ]
  },
  {
   "cell_type": "code",
   "execution_count": 114,
   "metadata": {
    "collapsed": true
   },
   "outputs": [],
   "source": [
    "num_hidden_units2 =[1024, 512, 256] "
   ]
  },
  {
   "cell_type": "code",
   "execution_count": 128,
   "metadata": {},
   "outputs": [
    {
     "name": "stdout",
     "output_type": "stream",
     "text": [
      "INFO:tensorflow:Using default config.\n",
      "INFO:tensorflow:Using config: {'_save_checkpoints_secs': 600, '_session_config': None, '_keep_checkpoint_max': 5, '_task_type': 'worker', '_is_chief': True, '_cluster_spec': <tensorflow.python.training.server_lib.ClusterSpec object at 0x125d80f10>, '_save_checkpoints_steps': None, '_keep_checkpoint_every_n_hours': 10000, '_service': None, '_num_ps_replicas': 0, '_tf_random_seed': None, '_master': '', '_num_worker_replicas': 1, '_task_id': 0, '_log_step_count_steps': 100, '_model_dir': './checkpoints_tutorial3/', '_save_summary_steps': 100}\n"
     ]
    }
   ],
   "source": [
    "model2 = tf.estimator.DNNClassifier(feature_columns=feature_columns,\n",
    "                                  hidden_units=num_hidden_units2,\n",
    "                                  activation_fn=tf.nn.relu,\n",
    "                                  optimizer=tf.train.ProximalAdagradOptimizer(\n",
    "                                  learning_rate=0.1,\n",
    "                                  l1_regularization_strength=0.001\n",
    "                                  ),\n",
    "                                  n_classes=num_classes,\n",
    "                                  model_dir=\"./checkpoints_tutorial3/\")"
   ]
  },
  {
   "cell_type": "code",
   "execution_count": 129,
   "metadata": {},
   "outputs": [
    {
     "name": "stdout",
     "output_type": "stream",
     "text": [
      "INFO:tensorflow:Create CheckpointSaverHook.\n",
      "INFO:tensorflow:Saving checkpoints for 1 into ./checkpoints_tutorial3/model.ckpt.\n",
      "INFO:tensorflow:loss = 302.3125, step = 1\n",
      "INFO:tensorflow:global_step/sec: 43.033\n",
      "INFO:tensorflow:loss = 134.62091, step = 101 (2.324 sec)\n",
      "INFO:tensorflow:global_step/sec: 36.9707\n",
      "INFO:tensorflow:loss = 54.968197, step = 201 (2.705 sec)\n",
      "INFO:tensorflow:global_step/sec: 32.9301\n",
      "INFO:tensorflow:loss = 63.9155, step = 301 (3.038 sec)\n",
      "INFO:tensorflow:global_step/sec: 40.204\n",
      "INFO:tensorflow:loss = 51.93029, step = 401 (2.486 sec)\n",
      "INFO:tensorflow:global_step/sec: 39.6646\n",
      "INFO:tensorflow:loss = 71.32415, step = 501 (2.523 sec)\n",
      "INFO:tensorflow:global_step/sec: 33.4938\n",
      "INFO:tensorflow:loss = 44.90232, step = 601 (2.986 sec)\n",
      "INFO:tensorflow:global_step/sec: 34.4974\n",
      "INFO:tensorflow:loss = 21.217262, step = 701 (2.900 sec)\n",
      "INFO:tensorflow:global_step/sec: 23.6747\n",
      "INFO:tensorflow:loss = 45.02545, step = 801 (4.224 sec)\n",
      "INFO:tensorflow:global_step/sec: 29.5981\n",
      "INFO:tensorflow:loss = 27.771957, step = 901 (3.379 sec)\n",
      "INFO:tensorflow:global_step/sec: 29.3786\n",
      "INFO:tensorflow:loss = 40.593487, step = 1001 (3.403 sec)\n",
      "INFO:tensorflow:global_step/sec: 35.4538\n",
      "INFO:tensorflow:loss = 47.917274, step = 1101 (2.819 sec)\n",
      "INFO:tensorflow:global_step/sec: 36.1259\n",
      "INFO:tensorflow:loss = 45.268158, step = 1201 (2.768 sec)\n",
      "INFO:tensorflow:global_step/sec: 40.1841\n",
      "INFO:tensorflow:loss = 34.853165, step = 1301 (2.488 sec)\n",
      "INFO:tensorflow:global_step/sec: 40.7045\n",
      "INFO:tensorflow:loss = 29.348057, step = 1401 (2.457 sec)\n",
      "INFO:tensorflow:global_step/sec: 26.2331\n",
      "INFO:tensorflow:loss = 29.656754, step = 1501 (3.813 sec)\n",
      "INFO:tensorflow:global_step/sec: 20.8659\n",
      "INFO:tensorflow:loss = 29.002089, step = 1601 (4.794 sec)\n",
      "INFO:tensorflow:global_step/sec: 24.0893\n",
      "INFO:tensorflow:loss = 23.213852, step = 1701 (4.150 sec)\n",
      "INFO:tensorflow:global_step/sec: 21.367\n",
      "INFO:tensorflow:loss = 30.77126, step = 1801 (4.680 sec)\n",
      "INFO:tensorflow:global_step/sec: 24.5833\n",
      "INFO:tensorflow:loss = 19.341204, step = 1901 (4.068 sec)\n",
      "INFO:tensorflow:Saving checkpoints for 2000 into ./checkpoints_tutorial3/model.ckpt.\n",
      "INFO:tensorflow:Loss for final step: 21.033934.\n"
     ]
    },
    {
     "data": {
      "text/plain": [
       "<tensorflow.python.estimator.canned.dnn.DNNClassifier at 0x126535550>"
      ]
     },
     "execution_count": 129,
     "metadata": {},
     "output_type": "execute_result"
    }
   ],
   "source": [
    "model2.train(input_fn=train_input_fn, steps=2000)"
   ]
  },
  {
   "cell_type": "markdown",
   "metadata": {},
   "source": [
    "# Evaluation"
   ]
  },
  {
   "cell_type": "markdown",
   "metadata": {},
   "source": [
    "After training the first thing we want to do is evaluate the model that we have build. We will be evaluating the model using the test input function that we have build. "
   ]
  },
  {
   "cell_type": "code",
   "execution_count": 104,
   "metadata": {},
   "outputs": [
    {
     "name": "stdout",
     "output_type": "stream",
     "text": [
      "INFO:tensorflow:Starting evaluation at 2018-03-01-19:30:12\n",
      "INFO:tensorflow:Restoring parameters from ./checkpoints_tutorial12/model.ckpt-4000\n",
      "INFO:tensorflow:Finished evaluation at 2018-03-01-19:30:13\n",
      "INFO:tensorflow:Saving dict for global step 4000: accuracy = 0.9713, average_loss = 0.09161571, global_step = 4000, loss = 11.596925\n"
     ]
    }
   ],
   "source": [
    "# Here we set the model.evaluate and specify it to use the test_input_fn\n",
    "result = model.evaluate(input_fn=test_input_fn)"
   ]
  },
  {
   "cell_type": "code",
   "execution_count": 105,
   "metadata": {},
   "outputs": [
    {
     "data": {
      "text/plain": [
       "{'accuracy': 0.9713,\n",
       " 'average_loss': 0.09161571,\n",
       " 'global_step': 4000,\n",
       " 'loss': 11.596925}"
      ]
     },
     "execution_count": 105,
     "metadata": {},
     "output_type": "execute_result"
    }
   ],
   "source": [
    "#Print the results\n",
    "result"
   ]
  },
  {
   "cell_type": "code",
   "execution_count": 106,
   "metadata": {},
   "outputs": [
    {
     "name": "stdout",
     "output_type": "stream",
     "text": [
      "Classification accuracy: 97.13%\n"
     ]
    }
   ],
   "source": [
    "print(\"Classification accuracy: {0:.2%}\".format(result[\"accuracy\"]))"
   ]
  },
  {
   "cell_type": "code",
   "execution_count": 130,
   "metadata": {},
   "outputs": [
    {
     "name": "stdout",
     "output_type": "stream",
     "text": [
      "INFO:tensorflow:Starting evaluation at 2018-03-01-19:44:56\n",
      "INFO:tensorflow:Restoring parameters from ./checkpoints_tutorial3/model.ckpt-2000\n",
      "INFO:tensorflow:Finished evaluation at 2018-03-01-19:44:58\n",
      "INFO:tensorflow:Saving dict for global step 2000: accuracy = 0.9379, average_loss = 0.21088672, global_step = 2000, loss = 26.69452\n"
     ]
    }
   ],
   "source": [
    "result2 = model2.evaluate(input_fn=test_input_fn)"
   ]
  },
  {
   "cell_type": "code",
   "execution_count": 131,
   "metadata": {},
   "outputs": [
    {
     "data": {
      "text/plain": [
       "{'accuracy': 0.9379,\n",
       " 'average_loss': 0.21088672,\n",
       " 'global_step': 2000,\n",
       " 'loss': 26.69452}"
      ]
     },
     "execution_count": 131,
     "metadata": {},
     "output_type": "execute_result"
    }
   ],
   "source": [
    "result2"
   ]
  },
  {
   "cell_type": "code",
   "execution_count": 132,
   "metadata": {},
   "outputs": [
    {
     "name": "stdout",
     "output_type": "stream",
     "text": [
      "Classification accuracy: 93.79%\n"
     ]
    }
   ],
   "source": [
    "print(\"Classification accuracy: {0:.2%}\".format(result2[\"accuracy\"]))"
   ]
  },
  {
   "cell_type": "markdown",
   "metadata": {},
   "source": [
    "# Predictions"
   ]
  },
  {
   "cell_type": "markdown",
   "metadata": {},
   "source": [
    "Now we are happy with the accuracy of our model we can do a couple of predictions. "
   ]
  },
  {
   "cell_type": "code",
   "execution_count": 47,
   "metadata": {
    "collapsed": true
   },
   "outputs": [],
   "source": [
    "# Here we specify the model predict function. \n",
    "predictions = model.predict(input_fn=predict_input_fn)"
   ]
  },
  {
   "cell_type": "code",
   "execution_count": 48,
   "metadata": {
    "scrolled": true
   },
   "outputs": [
    {
     "name": "stdout",
     "output_type": "stream",
     "text": [
      "INFO:tensorflow:Restoring parameters from ./checkpoints_tutorial17-1/model.ckpt-6000\n"
     ]
    }
   ],
   "source": [
    "cls = [p['classes'] for p in predictions]"
   ]
  },
  {
   "cell_type": "code",
   "execution_count": 49,
   "metadata": {},
   "outputs": [
    {
     "data": {
      "text/plain": [
       "array([7, 2, 1, 0, 4, 1, 4, 9, 5])"
      ]
     },
     "execution_count": 49,
     "metadata": {},
     "output_type": "execute_result"
    }
   ],
   "source": [
    "cls_pred = np.array(cls, dtype='int').squeeze()\n",
    "cls_pred"
   ]
  },
  {
   "cell_type": "code",
   "execution_count": 51,
   "metadata": {},
   "outputs": [
    {
     "data": {
      "image/png": "[encoded data removed]",
      "text/plain": [
       "<matplotlib.figure.Figure at 0x10c90ba50>"
      ]
     },
     "metadata": {},
     "output_type": "display_data"
    }
   ],
   "source": [
    "#Let's plot our predictions\n",
    "plot_images(images=some_images,\n",
    "            cls_true=some_images_cls,\n",
    "            cls_pred=cls_pred)"
   ]
  }
 ],
 "metadata": {
  "kernelspec": {
   "display_name": "Python 2",
   "language": "python",
   "name": "python2"
  },
  "language_info": {
   "codemirror_mode": {
    "name": "ipython",
    "version": 2
   },
   "file_extension": ".py",
   "mimetype": "text/x-python",
   "name": "python",
   "nbconvert_exporter": "python",
   "pygments_lexer": "ipython2",
   "version": "2.7.13"
  }
 },
 "nbformat": 4,
 "nbformat_minor": 2
}
