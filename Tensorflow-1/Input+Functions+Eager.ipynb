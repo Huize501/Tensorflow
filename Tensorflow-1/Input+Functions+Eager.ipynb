{
 "cells": [
  {
   "cell_type": "code",
   "execution_count": 2,
   "metadata": {
    "collapsed": true
   },
   "outputs": [],
   "source": [
    "import tensorflow as tf\n",
    "import tensorflow.contrib.eager as tfe\n",
    "import numpy as np\n",
    "import pandas as pd\n",
    "import os\n",
    "import matplotlib.pyplot as plt\n",
    "\n",
    "\n",
    "tf.logging.set_verbosity(tf.logging.INFO)"
   ]
  },
  {
   "cell_type": "code",
   "execution_count": 3,
   "metadata": {},
   "outputs": [
    {
     "name": "stdout",
     "output_type": "stream",
     "text": [
      "TensorFlow version: 1.8.0-rc0\n",
      "Eager execution: True\n"
     ]
    }
   ],
   "source": [
    "tf.enable_eager_execution()\n",
    "\n",
    "print(\"TensorFlow version: {}\".format(tf.VERSION))\n",
    "print(\"Eager execution: {}\".format(tf.executing_eagerly()))"
   ]
  },
  {
   "cell_type": "code",
   "execution_count": 4,
   "metadata": {
    "collapsed": true
   },
   "outputs": [],
   "source": [
    "TRAIN_URL = '/Users/erwinh/Desktop/iris_training.csv'"
   ]
  },
  {
   "cell_type": "code",
   "execution_count": 5,
   "metadata": {
    "collapsed": true
   },
   "outputs": [],
   "source": [
    "FEATURE_NAMES = ['SepalLength', 'SepalWidth',\n",
    "                    'PetalLength', 'PetalWidth']\n",
    "LABEL_NAMES = ['Setosa', 'Versicolor', 'Virginica']"
   ]
  },
  {
   "cell_type": "markdown",
   "metadata": {},
   "source": [
    "### Eager Exicution"
   ]
  },
  {
   "cell_type": "code",
   "execution_count": 6,
   "metadata": {
    "collapsed": true
   },
   "outputs": [],
   "source": [
    "batch_size = 10"
   ]
  },
  {
   "cell_type": "code",
   "execution_count": 7,
   "metadata": {
    "collapsed": true
   },
   "outputs": [],
   "source": [
    "def parse_csv(line):\n",
    "    example_defaults = [[0.], [0.], [0.], [0.], [0]]  # sets field types\n",
    "    parsed_line = tf.decode_csv(line, example_defaults)\n",
    "    \n",
    "    # First 4 fields are features and combined into a tensor\n",
    "    features = tf.reshape(parsed_line[:4], shape=(4,))\n",
    "    \n",
    "    # Last field is the label\n",
    "    label = tf.reshape(parsed_line[-1:], shape=())\n",
    "        \n",
    "    return features, label"
   ]
  },
  {
   "cell_type": "code",
   "execution_count": 8,
   "metadata": {
    "collapsed": true
   },
   "outputs": [],
   "source": [
    "def input_fn_train(train_set):\n",
    "    \n",
    "    train_dataset = tf.data.TextLineDataset(train_set)\n",
    "    \n",
    "    train_dataset = train_dataset.skip(1) # Skip the header\n",
    "\n",
    "    train_dataset = train_dataset.map(parse_csv) # Parse each row\n",
    "    \n",
    "    train_dataset = train_dataset.shuffle(buffer_size=256)\n",
    "    \n",
    "    train_dataset = train_dataset.batch(batch_size)\n",
    "    \n",
    "    return train_dataset"
   ]
  },
  {
   "cell_type": "code",
   "execution_count": 9,
   "metadata": {},
   "outputs": [
    {
     "name": "stdout",
     "output_type": "stream",
     "text": [
      "('example features:', <tf.Tensor: id=32, shape=(10, 4), dtype=float32, numpy=\n",
      "array([[6.1, 2.6, 5.6, 1.4],\n",
      "       [6.2, 3.4, 5.4, 2.3],\n",
      "       [5.7, 3. , 4.2, 1.2],\n",
      "       [5.8, 2.8, 5.1, 2.4],\n",
      "       [4.8, 3. , 1.4, 0.3],\n",
      "       [4.8, 3. , 1.4, 0.1],\n",
      "       [6.9, 3.1, 5.1, 2.3],\n",
      "       [5. , 3.6, 1.4, 0.2],\n",
      "       [4.9, 3.1, 1.5, 0.1],\n",
      "       [5. , 3.4, 1.5, 0.2]], dtype=float32)>)\n",
      "('example label:', <tf.Tensor: id=33, shape=(10,), dtype=int32, numpy=array([2, 2, 1, 2, 0, 0, 2, 0, 0, 0], dtype=int32)>)\n"
     ]
    }
   ],
   "source": [
    "# View a single example entry from a batch\n",
    "features, label = tfe.Iterator(input_fn_train(TRAIN_URL)).next()\n",
    "print(\"example features:\", features)\n",
    "print(\"example label:\", label)"
   ]
  }
 ],
 "metadata": {
  "kernelspec": {
   "display_name": "Python 2",
   "language": "python",
   "name": "python2"
  },
  "language_info": {
   "codemirror_mode": {
    "name": "ipython",
    "version": 2
   },
   "file_extension": ".py",
   "mimetype": "text/x-python",
   "name": "python",
   "nbconvert_exporter": "python",
   "pygments_lexer": "ipython2",
   "version": "2.7.13"
  }
 },
 "nbformat": 4,
 "nbformat_minor": 2
}
